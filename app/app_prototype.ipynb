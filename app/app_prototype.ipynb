{
 "cells": [
  {
   "cell_type": "code",
   "execution_count": 1,
   "metadata": {},
   "outputs": [],
   "source": [
    "#!/usr/bin/python\n",
    "\n",
    "# import statements\n",
    "import threading\n",
    "import sys\n",
    "from PyQt5 import QtWidgets, uic, QtCore, QtGui\n",
    "import time\n",
    "import pygetwindow as gw\n",
    "\n",
    "# for reading from an window\n",
    "\n",
    "import cv2\n",
    "from PIL import ImageGrab\n",
    "import win32api\n",
    "import winGuiAuto\n",
    "import win32gui\n",
    "import win32con\n",
    "import numpy as np\n",
    "\n",
    "# VARIABLES\n",
    "IPYTHON = True"
   ]
  },
  {
   "cell_type": "code",
   "execution_count": 2,
   "metadata": {},
   "outputs": [
    {
     "name": "stdout",
     "output_type": "stream",
     "text": [
      "['Prompt dei comandi - scp  -r AFEW_02 8kick@cvpc8.informatik.uni-hamburg.de:/data_c/8kick/AFEW-VA/', 'app_prototype - Jupyter Notebook - Google Chrome', 'Coez - Fuori di me', 'Prompt dei comandi - jupyter  notebook', 'i·bug - resources - AFEW-VA Database for Valence and Arousal Estimation In-The-Wild - Google Chrome']\n"
     ]
    }
   ],
   "source": [
    "def getWindowNames():\n",
    "    allTitles = gw.getAllTitles()\n",
    "    visibleWindows = []\n",
    "    for i in allTitles:\n",
    "        notepadWindow = gw.getWindowsWithTitle(i)[0]\n",
    "        if notepadWindow.isMinimized or notepadWindow.isMaximized:\n",
    "            visibleWindows.append(notepadWindow.title)\n",
    "    return visibleWindows\n",
    "\n",
    "print(getWindowNames())"
   ]
  },
  {
   "cell_type": "markdown",
   "metadata": {},
   "source": [
    "## ProcessStream - Tasks:\n",
    "         Task 1 - DONE : Use Multithreading for GUI + Processing\n",
    "         Task 2: Get pixels as an Input Stream (using OpenCV)\n",
    "         https://theailearner.com/2018/10/16/recording-a-specific-window-using-opencv-python/\n",
    "         Task 3: Preprocessing & Landmark detection\n",
    "         Task 4: Read in Python Model"
   ]
  },
  {
   "cell_type": "code",
   "execution_count": 3,
   "metadata": {},
   "outputs": [],
   "source": [
    "class ProcessStream(threading.Thread):\n",
    "    \n",
    "    def __init__(self, box_selection):\n",
    "        super(ProcessStream, self).__init__()\n",
    "        self.box_selection = box_selection\n",
    "        self.selected_window = \"\"\n",
    "        self.active = True\n",
    "            \n",
    "            \n",
    "    def run(self):\n",
    "        # Task 1 - DONE : Use Multithreading ???   for GUI + Input Stream\n",
    "        # Task 2 - DONE : Get pixels as an Input Stream (using OpenCV)\n",
    "        # Task 3: Preprocessing & Landmark detection\n",
    "        # Task 4: Read in Python Model\n",
    "        \n",
    "        self.selected_window = self.box_selection.currentText()\n",
    "        print(self.selected_window)\n",
    "        \n",
    "        window = gw.getWindowsWithTitle(self.selected_window)[0]\n",
    "        window.maximize()\n",
    "        hwnd = winGuiAuto.findTopWindow(self.selected_window)\n",
    "        \n",
    "        while self.active == True:\n",
    "            image_list = []\n",
    "            for _ in range(70):\n",
    "                \n",
    "                ## Suspecting this line of code:\n",
    "                ## #win32gui.SetWindowPos(hwnd, win32con.HWND_TOPMOST, 0,0,0,0, win32con.SWP_NOMOVE | win32con.SWP_NOSIZE)\n",
    "                \n",
    "                rect = win32gui.GetWindowPlacement(hwnd)[-1]\n",
    "                image = ImageGrab.grab(rect)\n",
    "                image_list.append(image)\n",
    "\n",
    "                height,width,channel = np.array(image).shape\n",
    "\n",
    "                out = cv2.VideoWriter('video.avi',cv2.VideoWriter_fourcc(*'DIVX'), 5, (width,height))\n",
    "\n",
    "                for images in image_list:\n",
    "                    out.write(cv2.cvtColor(np.array(images),cv2.COLOR_BGR2RGB))\n",
    "                out.release()\n",
    "            \n",
    "            # cv2.imwrite(\"test.jpg\", img)\n",
    "            # text = return_prediction(\"test.jpg\")\n",
    "    \n",
    "    def stop(self):\n",
    "        print(self.selected_window)\n",
    "        window = gw.getWindowsWithTitle(self.selected_window)[0]\n",
    "        window.minimize()\n",
    "        print(\"STOP\")\n",
    "        self.active = False"
   ]
  },
  {
   "cell_type": "code",
   "execution_count": 4,
   "metadata": {},
   "outputs": [],
   "source": [
    "class CreateContent(threading.Thread):\n",
    "    def dynamicContentCreation():\n",
    "        # Last step in Prototype\n",
    "        # Speech Recognition ( Speech -> to -> Text )\n",
    "        # Make us of a 'faked' chat-bot (decision tree)\n",
    "        return 0"
   ]
  },
  {
   "cell_type": "code",
   "execution_count": 5,
   "metadata": {},
   "outputs": [
    {
     "name": "stdout",
     "output_type": "stream",
     "text": [
      "Analytics got started! Selected window: Coez - Fuori di me\n",
      "Coez - Fuori di me\n",
      "Coez - Fuori di me\n",
      "STOP\n",
      "Analytics got started! Selected window: i·bug - resources - AFEW-VA Database for Valence and Arousal Estimation In-The-Wild - Google Chrome\n",
      "i·bug - resources - AFEW-VA Database for Valence and Arousal Estimation In-The-Wild - Google Chrome\n",
      "i·bug - resources - AFEW-VA Database for Valence and Arousal Estimation In-The-Wild - Google Chrome\n",
      "STOP\n",
      "Analytics got started! Selected window: i·bug - resources - AFEW-VA Database for Valence and Arousal Estimation In-The-Wild - Google Chrome\n",
      "i·bug - resources - AFEW-VA Database for Valence and Arousal Estimation In-The-Wild - Google Chrome\n",
      "Close button pressed\n",
      "i·bug - resources - AFEW-VA Database for Valence and Arousal Estimation In-The-Wild - Google Chrome\n",
      "STOP\n"
     ]
    }
   ],
   "source": [
    "# Create GUI with PyQt\n",
    "selected_window = \"\"\n",
    "\n",
    "class Ui_MainWindow(object): \n",
    "    def setupUi(self, window, inputList): \n",
    "        super().__init__()\n",
    "        self.window = window\n",
    "        self.window.box_selection.addItems(inputList)\n",
    "        self.window.btn_start.clicked.connect(self.getSelection)\n",
    "        self.recording = False\n",
    "        self.thread1 = ProcessStream(self.window.box_selection)\n",
    "        app.aboutToQuit.connect(self.closeEvent)\n",
    "        \n",
    "    def getSelection(self): \n",
    "        if self.recording == False:\n",
    "            selected_window = str(self.window.box_selection.currentText())\n",
    "            print(\"Analytics got started! Selected window: \" + selected_window)\n",
    "            self.recording = True\n",
    "            # changing the text of label after button got clicked \n",
    "            self.window.btn_start.setText(\"Stop Analytics\")\n",
    "            self.thread1.start() # This actually causes the thread to run\n",
    "        else:\n",
    "            self.recording = False\n",
    "            self.thread1.stop()\n",
    "                        \n",
    "            self.window.btn_start.setText(\"Start Recording\")\n",
    "            self.thread1 = ProcessStream(self.window.box_selection)  # recreate thread\n",
    "    \n",
    "    def closeEvent(self):\n",
    "        print('Close button pressed')\n",
    "        self.recording = False\n",
    "        self.thread1.stop()\n",
    "        \n",
    "        if IPYTHON:\n",
    "            app.deleteLater\n",
    "        else:\n",
    "            sys.exit(0)\n",
    "\n",
    "\n",
    "  \n",
    "if __name__ == \"__main__\":  \n",
    "    app = QtWidgets.QApplication(sys.argv)  \n",
    "    window = uic.loadUi(\"dialog.ui\")\n",
    "    \n",
    "    myApp = Ui_MainWindow()  \n",
    "    myApp.setupUi(window, getWindowNames())  \n",
    "      \n",
    "    if IPYTHON == False:\n",
    "        window.show() \n",
    "        sys.exit(app.exec_())\n",
    "    else:\n",
    "        window.show()\n",
    "        app.exec_()"
   ]
  },
  {
   "cell_type": "code",
   "execution_count": 6,
   "metadata": {},
   "outputs": [
    {
     "name": "stdout",
     "output_type": "stream",
     "text": [
      "Analytics got started! Selected window: Prompt dei comandi - scp  -r AFEW_02 8kick@cvpc8.informatik.uni-hamburg.de:/data_c/8kick/AFEW-VA/\n"
     ]
    },
    {
     "ename": "RuntimeError",
     "evalue": "threads can only be started once",
     "output_type": "error",
     "traceback": [
      "\u001b[1;31m---------------------------------------------------------------------------\u001b[0m",
      "\u001b[1;31mRuntimeError\u001b[0m                              Traceback (most recent call last)",
      "\u001b[1;32m<ipython-input-5-05ca0dec2427>\u001b[0m in \u001b[0;36mgetSelection\u001b[1;34m(self)\u001b[0m\n\u001b[0;32m     19\u001b[0m             \u001b[1;31m# changing the text of label after button got clicked\u001b[0m\u001b[1;33m\u001b[0m\u001b[1;33m\u001b[0m\u001b[1;33m\u001b[0m\u001b[0m\n\u001b[0;32m     20\u001b[0m             \u001b[0mself\u001b[0m\u001b[1;33m.\u001b[0m\u001b[0mwindow\u001b[0m\u001b[1;33m.\u001b[0m\u001b[0mbtn_start\u001b[0m\u001b[1;33m.\u001b[0m\u001b[0msetText\u001b[0m\u001b[1;33m(\u001b[0m\u001b[1;34m\"Stop Analytics\"\u001b[0m\u001b[1;33m)\u001b[0m\u001b[1;33m\u001b[0m\u001b[1;33m\u001b[0m\u001b[0m\n\u001b[1;32m---> 21\u001b[1;33m             \u001b[0mself\u001b[0m\u001b[1;33m.\u001b[0m\u001b[0mthread1\u001b[0m\u001b[1;33m.\u001b[0m\u001b[0mstart\u001b[0m\u001b[1;33m(\u001b[0m\u001b[1;33m)\u001b[0m \u001b[1;31m# This actually causes the thread to run\u001b[0m\u001b[1;33m\u001b[0m\u001b[1;33m\u001b[0m\u001b[0m\n\u001b[0m\u001b[0;32m     22\u001b[0m         \u001b[1;32melse\u001b[0m\u001b[1;33m:\u001b[0m\u001b[1;33m\u001b[0m\u001b[1;33m\u001b[0m\u001b[0m\n\u001b[0;32m     23\u001b[0m             \u001b[0mself\u001b[0m\u001b[1;33m.\u001b[0m\u001b[0mrecording\u001b[0m \u001b[1;33m=\u001b[0m \u001b[1;32mFalse\u001b[0m\u001b[1;33m\u001b[0m\u001b[1;33m\u001b[0m\u001b[0m\n",
      "\u001b[1;32mc:\\users\\tobias\\appdata\\local\\programs\\python\\python37\\lib\\threading.py\u001b[0m in \u001b[0;36mstart\u001b[1;34m(self)\u001b[0m\n\u001b[0;32m    841\u001b[0m \u001b[1;33m\u001b[0m\u001b[0m\n\u001b[0;32m    842\u001b[0m         \u001b[1;32mif\u001b[0m \u001b[0mself\u001b[0m\u001b[1;33m.\u001b[0m\u001b[0m_started\u001b[0m\u001b[1;33m.\u001b[0m\u001b[0mis_set\u001b[0m\u001b[1;33m(\u001b[0m\u001b[1;33m)\u001b[0m\u001b[1;33m:\u001b[0m\u001b[1;33m\u001b[0m\u001b[1;33m\u001b[0m\u001b[0m\n\u001b[1;32m--> 843\u001b[1;33m             \u001b[1;32mraise\u001b[0m \u001b[0mRuntimeError\u001b[0m\u001b[1;33m(\u001b[0m\u001b[1;34m\"threads can only be started once\"\u001b[0m\u001b[1;33m)\u001b[0m\u001b[1;33m\u001b[0m\u001b[1;33m\u001b[0m\u001b[0m\n\u001b[0m\u001b[0;32m    844\u001b[0m         \u001b[1;32mwith\u001b[0m \u001b[0m_active_limbo_lock\u001b[0m\u001b[1;33m:\u001b[0m\u001b[1;33m\u001b[0m\u001b[1;33m\u001b[0m\u001b[0m\n\u001b[0;32m    845\u001b[0m             \u001b[0m_limbo\u001b[0m\u001b[1;33m[\u001b[0m\u001b[0mself\u001b[0m\u001b[1;33m]\u001b[0m \u001b[1;33m=\u001b[0m \u001b[0mself\u001b[0m\u001b[1;33m\u001b[0m\u001b[1;33m\u001b[0m\u001b[0m\n",
      "\u001b[1;31mRuntimeError\u001b[0m: threads can only be started once"
     ]
    },
    {
     "name": "stdout",
     "output_type": "stream",
     "text": [
      "i·bug - resources - AFEW-VA Database for Valence and Arousal Estimation In-The-Wild - Google Chrome\n",
      "STOP\n",
      "Analytics got started! Selected window: Prompt dei comandi - scp  -r AFEW_02 8kick@cvpc8.informatik.uni-hamburg.de:/data_c/8kick/AFEW-VA/\n",
      "Prompt dei comandi - scp  -r AFEW_02 8kick@cvpc8.informatik.uni-hamburg.de:/data_c/8kick/AFEW-VA/\n",
      "Prompt dei comandi - scp  -r AFEW_02 8kick@cvpc8.informatik.uni-hamburg.de:/data_c/8kick/AFEW-VA/\n",
      "STOP\n",
      "Close button pressed\n",
      "\n",
      "STOP\n"
     ]
    },
    {
     "data": {
      "text/plain": [
       "0"
      ]
     },
     "execution_count": 6,
     "metadata": {},
     "output_type": "execute_result"
    }
   ],
   "source": [
    "window.show()\n",
    "app.exec_()"
   ]
  },
  {
   "cell_type": "code",
   "execution_count": null,
   "metadata": {},
   "outputs": [],
   "source": []
  },
  {
   "cell_type": "code",
   "execution_count": null,
   "metadata": {},
   "outputs": [],
   "source": []
  }
 ],
 "metadata": {
  "kernelspec": {
   "display_name": "Python 3",
   "language": "python",
   "name": "python3"
  },
  "language_info": {
   "codemirror_mode": {
    "name": "ipython",
    "version": 3
   },
   "file_extension": ".py",
   "mimetype": "text/x-python",
   "name": "python",
   "nbconvert_exporter": "python",
   "pygments_lexer": "ipython3",
   "version": "3.7.3"
  }
 },
 "nbformat": 4,
 "nbformat_minor": 2
}
