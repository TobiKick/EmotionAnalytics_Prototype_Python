{
 "cells": [
  {
   "cell_type": "code",
   "execution_count": 1,
   "metadata": {},
   "outputs": [],
   "source": [
    "#!/usr/bin/python\n",
    "import threading\n",
    "\n",
    "IPYTHON = True"
   ]
  },
  {
   "cell_type": "code",
   "execution_count": 2,
   "metadata": {},
   "outputs": [
    {
     "name": "stdout",
     "output_type": "stream",
     "text": [
      "['app - Jupyter Notebook - Google Chrome', 'Prompt dei comandi - jupyter  notebook', 'Speech emotion recognition: Emotional models, databases, features, preprocessing methods, supporting modalities, and classifiers * - Foxit Reader', 'How to connect Expo to USB Android Device - Neila - Medium - Mozilla Firefox']\n"
     ]
    }
   ],
   "source": [
    "import pygetwindow as gw\n",
    "\n",
    "def getWindowNames():\n",
    "    allTitles = gw.getAllTitles()\n",
    "    visibleWindows = []\n",
    "    for i in allTitles:\n",
    "        notepadWindow = gw.getWindowsWithTitle(i)[0]\n",
    "        if notepadWindow.isMinimized or notepadWindow.isMaximized:\n",
    "            visibleWindows.append(notepadWindow.title)\n",
    "    return visibleWindows\n",
    "\n",
    "print(getWindowNames())"
   ]
  },
  {
   "cell_type": "code",
   "execution_count": 3,
   "metadata": {},
   "outputs": [],
   "source": [
    "import time\n",
    "class ProcessStream(threading.Thread):\n",
    "    def __init__(self, box_selection):\n",
    "        super(ProcessStream, self).__init__()\n",
    "        self.box_selection = box_selection\n",
    "        self.selected_window = \"\"\n",
    "        self.active = True\n",
    "            \n",
    "    def run(self):\n",
    "        # Task 1 - DONE : Use Multithreading ???   for GUI + Input Stream\n",
    "        # Task 2: Get pixels as an Input Stream\n",
    "        # Task 3: Preprocessing & Landmark detection\n",
    "        # Task 4: Read in Python Model\n",
    "        self.selected_window = self.box_selection.currentText()\n",
    "        print(self.selected_window)\n",
    "        i = 0\n",
    "        while self.active == True:\n",
    "            i = i + 1\n",
    "            print(i)\n",
    "            time.sleep(5)\n",
    "        \n",
    "    \n",
    "    def stop(self):\n",
    "        print(self.selected_window)\n",
    "        print(\"STOP\")\n",
    "        self.active = False"
   ]
  },
  {
   "cell_type": "code",
   "execution_count": 4,
   "metadata": {},
   "outputs": [],
   "source": [
    "class CreateContent(threading.Thread):\n",
    "    def dynamicContentCreation():\n",
    "        # Last step in Prototype\n",
    "        # Speech Recognition ( Speech -> to -> Text )\n",
    "        # Make us of a 'faked' chat-bot (decision tree)\n",
    "        return 0"
   ]
  },
  {
   "cell_type": "code",
   "execution_count": null,
   "metadata": {},
   "outputs": [
    {
     "name": "stdout",
     "output_type": "stream",
     "text": [
      "Analytics got started! Selected window: How to connect Expo to USB Android Device - Neila - Medium - Mozilla Firefox\n",
      "How to connect Expo to USB Android Device - Neila - Medium - Mozilla Firefox\n",
      "1\n",
      "2\n",
      "3\n",
      "How to connect Expo to USB Android Device - Neila - Medium - Mozilla Firefox\n",
      "STOP\n",
      "Analytics got started! Selected window: Prompt dei comandi - jupyter  notebook\n",
      "Prompt dei comandi - jupyter  notebook\n",
      "1\n",
      "2\n",
      "3\n",
      "4\n",
      "Prompt dei comandi - jupyter  notebook\n",
      "STOP\n"
     ]
    }
   ],
   "source": [
    "# Create GUI with PyQt\n",
    "import sys\n",
    "from PyQt5 import QtWidgets, uic, QtCore, QtGui\n",
    "\n",
    "selected_window = \"\"\n",
    "\n",
    "class Ui_MainWindow(object): \n",
    "    def setupUi(self, window, inputList): \n",
    "        super().__init__()\n",
    "        self.window = window\n",
    "        self.window.box_selection.addItems(inputList)\n",
    "        self.window.btn_start.clicked.connect(self.getSelection)\n",
    "        self.recording = False\n",
    "        self.thread1 = ProcessStream(self.window.box_selection)\n",
    "        app.aboutToQuit.connect(self.closeEvent)\n",
    "        \n",
    "    def getSelection(self): \n",
    "        if self.recording == False:\n",
    "            selected_window = str(self.window.box_selection.currentText())\n",
    "            print(\"Analytics got started! Selected window: \" + selected_window)\n",
    "            self.recording = True\n",
    "            # changing the text of label after button got clicked \n",
    "            self.window.btn_start.setText(\"Stop Analytics\")\n",
    "            self.thread1.start() # This actually causes the thread to run\n",
    "        else:\n",
    "            self.recording = False\n",
    "            self.window.btn_start.setText(\"Start Recording\")\n",
    "            self.thread1.stop()\n",
    "            self.thread1.join() # wait for old thread to finish\n",
    "            self.thread1 = ProcessStream(self.window.box_selection)  # recreate thread\n",
    "    \n",
    "    def closeEvent(self):\n",
    "        print('Close button pressed')\n",
    "        if IPYTHON:\n",
    "            app.deleteLater\n",
    "        else:\n",
    "            sys.exit(0)\n",
    "        \n",
    "  \n",
    "if __name__ == \"__main__\":  \n",
    "    app = QtWidgets.QApplication(sys.argv)  \n",
    "    window = uic.loadUi(\"dialog.ui\")\n",
    "    \n",
    "    myApp = Ui_MainWindow()  \n",
    "    myApp.setupUi(window, getWindowNames())  \n",
    "      \n",
    "    if IPYTHON == False:\n",
    "        window.show() \n",
    "        sys.exit(app.exec_())\n",
    "    else:\n",
    "        window.show()\n",
    "        app.exec_()"
   ]
  },
  {
   "cell_type": "code",
   "execution_count": null,
   "metadata": {},
   "outputs": [],
   "source": []
  }
 ],
 "metadata": {
  "kernelspec": {
   "display_name": "Python 3",
   "language": "python",
   "name": "python3"
  },
  "language_info": {
   "codemirror_mode": {
    "name": "ipython",
    "version": 3
   },
   "file_extension": ".py",
   "mimetype": "text/x-python",
   "name": "python",
   "nbconvert_exporter": "python",
   "pygments_lexer": "ipython3",
   "version": "3.7.3"
  }
 },
 "nbformat": 4,
 "nbformat_minor": 2
}
