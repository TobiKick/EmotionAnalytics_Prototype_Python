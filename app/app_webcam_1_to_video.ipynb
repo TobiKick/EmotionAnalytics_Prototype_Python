{
 "cells": [
  {
   "cell_type": "markdown",
   "metadata": {},
   "source": [
    " Create the window that you want to record (I used cv2.imshow() for that)\n",
    " \n",
    " Give the window name that you want to record in winGuiAuto.findTopWindow()\n",
    " \n",
    " Keep the window on top and set its position using win32gui.SetWindowPos()\n",
    " \n",
    " Get the coordinates of the window using win32gui.GetWindowPlacement\n",
    " \n",
    " Grab an image of the area using ImageGrab.grab()\n",
    " \n",
    " Append all these images into a list.\n",
    " \n",
    " Create a VideoWriter object using cv2.VideoWriter()\n",
    " \n",
    " Convert each image color and save it.\n",
    " \n",
    " \n",
    " https://theailearner.com/2018/10/16/recording-a-specific-window-using-opencv-python/"
   ]
  },
  {
   "cell_type": "code",
   "execution_count": 1,
   "metadata": {},
   "outputs": [
    {
     "name": "stderr",
     "output_type": "stream",
     "text": [
      "Using TensorFlow backend.\n"
     ]
    }
   ],
   "source": [
    "from keras_vggface.utils import preprocess_input\n",
    "from keras_vggface.vggface import VGGFace"
   ]
  },
  {
   "cell_type": "code",
   "execution_count": 3,
   "metadata": {},
   "outputs": [
    {
     "name": "stdout",
     "output_type": "stream",
     "text": [
      "True\n"
     ]
    }
   ],
   "source": [
    "import numpy as np\n",
    "import cv2\n",
    "from PIL import ImageGrab\n",
    "import win32api\n",
    "import winGuiAuto\n",
    "import win32gui\n",
    "import win32con\n",
    " \n",
    "cap = cv2.VideoCapture(0)\n",
    " \n",
    "# Capture the window frame by frame\n",
    "image_list = []\n",
    "for _ in range(70):\n",
    "    ## image = cv2.imread('C:/Users/Tobias/Desktop/Master-Thesis/Data/facesdb/s005/tif/training/s005-04_img.tif') \n",
    "    returnValue, frame = cap.read()\n",
    "    cv2.imshow('EmoRec',frame)\n",
    "    cv2.waitKey(1)\n",
    "    hwnd = winGuiAuto.findTopWindow(\"EmoRec\")\n",
    "    win32gui.SetWindowPos(hwnd, win32con.HWND_TOPMOST, 0,0,0,0,\n",
    "    win32con.SWP_NOMOVE | win32con.SWP_NOSIZE)\n",
    "    rect = win32gui.GetWindowPlacement(hwnd)[-1]\n",
    "    image = ImageGrab.grab(rect)\n",
    "    image_list.append(image)\n",
    " \n",
    "height,width,channel = np.array(image).shape\n",
    "cap.release()\n",
    "cv2.destroyAllWindows()\n",
    " \n",
    " \n",
    "out = cv2.VideoWriter('video.avi',cv2.VideoWriter_fourcc(*'DIVX'), 5, (width,height))\n",
    " \n",
    "for images in image_list:\n",
    "    out.write(cv2.cvtColor(np.array(images),cv2.COLOR_BGR2RGB))\n",
    "out.release()\n",
    " \n",
    "# Save into .gif\n",
    "#import imageio\n",
    "#image_gif = []\n",
    "#for images in image_list:\n",
    "#    print(np.array(images))\n",
    "#    image_gif.append(np.array(images))\n",
    "#imageio.mimsave('movie.gif', image_gif,duration=0.2)"
   ]
  },
  {
   "cell_type": "code",
   "execution_count": null,
   "metadata": {},
   "outputs": [],
   "source": []
  }
 ],
 "metadata": {
  "kernelspec": {
   "display_name": "Python 3",
   "language": "python",
   "name": "python3"
  },
  "language_info": {
   "codemirror_mode": {
    "name": "ipython",
    "version": 3
   },
   "file_extension": ".py",
   "mimetype": "text/x-python",
   "name": "python",
   "nbconvert_exporter": "python",
   "pygments_lexer": "ipython3",
   "version": "3.7.3"
  }
 },
 "nbformat": 4,
 "nbformat_minor": 2
}
