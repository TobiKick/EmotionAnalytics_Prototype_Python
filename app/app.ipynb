{
 "cells": [
  {
   "cell_type": "code",
   "execution_count": 1,
   "metadata": {},
   "outputs": [],
   "source": [
    "#!/usr/bin/python\n",
    "\n",
    "IPYTHON = True"
   ]
  },
  {
   "cell_type": "code",
   "execution_count": 2,
   "metadata": {},
   "outputs": [
    {
     "name": "stdout",
     "output_type": "stream",
     "text": [
      "['app - Jupyter Notebook - Google Chrome', 'Speech emotion recognition: Emotional models, databases, features, preprocessing methods, supporting modalities, and classifiers - Foxit Reader', 'Big Mountain - Baby I Love Your Way', 'How to connect Expo to USB Android Device - Neila - Medium - Mozilla Firefox']\n"
     ]
    }
   ],
   "source": [
    "import pygetwindow as gw\n",
    "\n",
    "def getWindowNames():\n",
    "    allTitles = gw.getAllTitles()\n",
    "    visibleWindows = []\n",
    "    for i in allTitles:\n",
    "        notepadWindow = gw.getWindowsWithTitle(i)[0]\n",
    "        if notepadWindow.isMinimized or notepadWindow.isMaximized:\n",
    "            visibleWindows.append(notepadWindow.title)\n",
    "    return visibleWindows\n",
    "\n",
    "print(getWindowNames())"
   ]
  },
  {
   "cell_type": "code",
   "execution_count": 3,
   "metadata": {},
   "outputs": [],
   "source": [
    "def processInputStream(selected_window):\n",
    "    # (Task: Get Audio Input Stream)\n",
    "    # (Task: Preprocess Audio Stream for Input)\n",
    "    # \n",
    "    # Task 1: Use Multithreading ???   for GUI + Input Stream\n",
    "    # Task 2: Get pixels as an Input Stream\n",
    "    # Task 3: Preprocessing & Landmark detection\n",
    "    # Task 4: Read in Python Model\n",
    "    return 0"
   ]
  },
  {
   "cell_type": "code",
   "execution_count": 4,
   "metadata": {},
   "outputs": [],
   "source": [
    "def dynamicContentCreation():\n",
    "    # Last step in Prototype\n",
    "    # Speech Recognition ( Speech -> to -> Text )\n",
    "    # Make us of a 'faked' chat-bot (decision tree)\n",
    "    return 0"
   ]
  },
  {
   "cell_type": "code",
   "execution_count": 5,
   "metadata": {},
   "outputs": [],
   "source": [
    "# Create GUI with PyQt\n",
    "import sys\n",
    "from PyQt5 import QtWidgets, uic, QtCore, QtGui\n",
    "\n",
    "selected_window = \"\"\n",
    "\n",
    "class Ui_MainWindow(object): \n",
    "    def setupUi(self, window, inputList): \n",
    "        super().__init__()\n",
    "        self.window = window\n",
    "        self.window.box_selection.addItems(inputList)\n",
    "        self.window.btn_start.clicked.connect(self.getSelection)\n",
    "        self.recording = False\n",
    "        app.aboutToQuit.connect(self.closeEvent)\n",
    "        \n",
    "    def getSelection(self): \n",
    "        if self.recording == False:\n",
    "            selected_window = str(self.window.box_selection.currentText())\n",
    "            print(\"Analytics got started! Selected window: \" + selected_window)\n",
    "            self.recording = True\n",
    "            # changing the text of label after button got clicked \n",
    "            self.window.btn_start.setText(\"Stop Analytics\")\n",
    "            processInputStream(selected_window)\n",
    "        else:\n",
    "            self.recording = False\n",
    "            self.window.btn_start.setText(\"Start Recording\")\n",
    "    \n",
    "    def closeEvent(self):\n",
    "        print('Close button pressed')\n",
    "        if IPYTHON:\n",
    "            app.deleteLater\n",
    "        else:\n",
    "            sys.exit(0)\n",
    "        \n",
    "  \n",
    "if __name__ == \"__main__\":  \n",
    "    app = QtWidgets.QApplication(sys.argv)  \n",
    "    window = uic.loadUi(\"dialog.ui\")\n",
    "    \n",
    "    myApp = Ui_MainWindow()  \n",
    "    myApp.setupUi(window, getWindowNames())  \n",
    "      \n",
    "    if IPYTHON == False:\n",
    "        window.show() \n",
    "        sys.exit(app.exec_())"
   ]
  },
  {
   "cell_type": "code",
   "execution_count": 7,
   "metadata": {},
   "outputs": [
    {
     "name": "stdout",
     "output_type": "stream",
     "text": [
      "Analytics got started! Selected window: app - Jupyter Notebook - Google Chrome\n",
      "Analytics got started! Selected window: app - Jupyter Notebook - Google Chrome\n",
      "Close button pressed\n"
     ]
    }
   ],
   "source": [
    "if IPYTHON == True:\n",
    "    window.show()\n",
    "    app.exec_()"
   ]
  },
  {
   "cell_type": "code",
   "execution_count": null,
   "metadata": {},
   "outputs": [],
   "source": []
  }
 ],
 "metadata": {
  "kernelspec": {
   "display_name": "Python 3",
   "language": "python",
   "name": "python3"
  },
  "language_info": {
   "codemirror_mode": {
    "name": "ipython",
    "version": 3
   },
   "file_extension": ".py",
   "mimetype": "text/x-python",
   "name": "python",
   "nbconvert_exporter": "python",
   "pygments_lexer": "ipython3",
   "version": "3.7.3"
  }
 },
 "nbformat": 4,
 "nbformat_minor": 2
}
