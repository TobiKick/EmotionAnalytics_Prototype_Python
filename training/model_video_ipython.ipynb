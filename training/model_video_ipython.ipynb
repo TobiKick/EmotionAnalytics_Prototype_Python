{
 "cells": [
  {
   "cell_type": "code",
   "execution_count": 161,
   "metadata": {},
   "outputs": [],
   "source": [
    "############################# IMPORT STATEMENTS ########################################################\n",
    "#Import Python modules\n",
    "import numpy as np\n",
    "from matplotlib import pyplot as plt\n",
    "from mtcnn.mtcnn import MTCNN\n",
    "from numpy import asarray\n",
    "from PIL import Image\n",
    "from matplotlib.patches import Rectangle\n",
    "import cv2\n",
    "import os\n",
    "import json\n",
    "from sklearn.model_selection import train_test_split\n",
    "from sklearn.utils import shuffle\n",
    "\n",
    "from keras_vggface.utils import preprocess_input\n",
    "from keras_vggface.vggface import VGGFace\n",
    "\n",
    "#For local CPU usage:\n",
    "import os\n",
    "os.environ[\"CUDA_DEVICE_ORDER\"] = \"PCI_BUS_ID\"\n",
    "os.environ[\"CUDA_VISIBLE_DEVICES\"] = \"\"\n",
    "\n",
    "#Import Keras modules\n",
    "from keras.layers import Dense, Flatten, Input, Dropout, Conv1D, Conv2D, LSTM, Concatenate, Reshape, MaxPool1D, MaxPool2D, BatchNormalization\n",
    "from keras import Model, Sequential\n",
    "from keras.optimizers import Adam\n",
    "from keras.utils import np_utils\n",
    "import keras.backend as K\n",
    "import tensorflow as tf\n",
    "from scipy import stats"
   ]
  },
  {
   "cell_type": "code",
   "execution_count": 59,
   "metadata": {},
   "outputs": [],
   "source": [
    "############################# SETUP PROJECT PARAMETERS ########################################################\n",
    "LOAD_PROGRESS_FROM_MODEL = False\n",
    "SAVE_PROGRESS_TO_MODEL = True\n",
    "\n",
    "IMAGE_HEIGHT = 224\n",
    "IMAGE_WIDTH = 224\n",
    "\n",
    "PATH_TO_FOLDER = 'C:/Users/Tobias/Desktop/Master-Thesis/Data/AFEW/002'\n",
    "PATH_TO_DATA = 'C:/Users/Tobias/Desktop/Master-Thesis/Data/AFEW'\n",
    "FOLDER = \"/002\"\n",
    "DATA_DIR_PREDICT = 'C:/Users/Tobias/Desktop/Master-Thesis/Data/facesdb/s005/tif/training/'\n",
    "DISPLAY_IMG_NAME = '00000.png'\n",
    "IMG_FORMAT = '.png'"
   ]
  },
  {
   "cell_type": "markdown",
   "metadata": {},
   "source": []
  },
  {
   "cell_type": "markdown",
   "metadata": {},
   "source": [
    "# Approach:\n",
    "\n",
    "### 1. Face detection\n",
    "using MTCNN (Simultaneous face detection, face alignment, bounding boxing and landmark detection)\n",
    "\n",
    "### 2. Highlighting faces\n",
    "draw the bounding box in an image and plot it - to check out the result\n",
    "\n",
    "### 3. Face extraction\n",
    "extracting the face according to the identified bounding box\n",
    "\n",
    "### 4. Face recognition\n",
    "Using the VGGFace pretrained Resnet50 model to recognize emotions (training + prediction)"
   ]
  },
  {
   "cell_type": "markdown",
   "metadata": {},
   "source": []
  },
  {
   "cell_type": "markdown",
   "metadata": {},
   "source": [
    "## 0. Get data"
   ]
  },
  {
   "cell_type": "code",
   "execution_count": 60,
   "metadata": {},
   "outputs": [],
   "source": [
    "# for now reading the RGB values of the image (maybe in future just gray-scale)\n",
    "def get_image_from_filename(path_to_folder, filename):\n",
    "    image = cv2.cvtColor(cv2.imread(os.path.join(path_to_folder, filename)), cv2.COLOR_BGR2RGB)\n",
    "    return image\n",
    "\n",
    "def get_all_images(path_to_data):\n",
    "    images = []\n",
    "    for folder in os.listdir(path_to_data):\n",
    "        for filename in os.listdir(os.path.join(path_to_data, folder)):\n",
    "            img = cv2.imread(os.path.join(path_to_data, folder, filename))\n",
    "            if img is not None:\n",
    "                img = cv2.cvtColor(img, cv2.COLOR_BGR2RGB)\n",
    "                images.append(img)\n",
    "    return images"
   ]
  },
  {
   "cell_type": "code",
   "execution_count": 61,
   "metadata": {},
   "outputs": [],
   "source": [
    "# sructure data according to emotions (necessary to read in labels)\n",
    "def get_labels_from_folder(path_to_data):\n",
    "    labels = []\n",
    "    \n",
    "    for folder in os.listdir(path_to_data):\n",
    "        with open(os.path.join(path_to_data, folder, folder + \".json\")) as p:\n",
    "            data = json.load(p)\n",
    "        frames = data['frames']\n",
    "    \n",
    "        for key, value in frames.items():\n",
    "            labels.append([value['valence'], value['arousal']])\n",
    "\n",
    "    return labels"
   ]
  },
  {
   "cell_type": "code",
   "execution_count": 72,
   "metadata": {},
   "outputs": [],
   "source": [
    "# split data into training, cv and test\n",
    "def get_splitted_data(path_to_data):\n",
    "    labels = get_labels_from_folder(path_to_data)\n",
    "    filenames = get_all_images(path_to_data)\n",
    "    \n",
    "    filenames_shuffled_np, labels_shuffled_np = shuffle(filenames, labels)\n",
    "    X_training, X_test, Y_training, Y_test = train_test_split(filenames_shuffled_np, labels_shuffled_np, test_size=0.2, random_state=1)\n",
    "    \n",
    "    return X_training, X_test, Y_training, Y_test"
   ]
  },
  {
   "cell_type": "markdown",
   "metadata": {},
   "source": [
    " \n",
    "## 1. Face detection"
   ]
  },
  {
   "cell_type": "code",
   "execution_count": 87,
   "metadata": {},
   "outputs": [],
   "source": [
    "detector = MTCNN()\n",
    "\n",
    "def detect_face(image):\n",
    "    face = detector.detect_faces(image)\n",
    "    return face\n",
    "\n",
    "def detect_faces(images):\n",
    "    faces = []  \n",
    "    for img in images:\n",
    "        face = detector.detect_faces(img)\n",
    "        if len(face) == 1:\n",
    "            faces.append(face)  ## just use the face with the highest detection probability\n",
    "        elif len(face) > 1:\n",
    "            faces.append(face[0])\n",
    "        else:\n",
    "            faces.append([]) ### no face was detected\n",
    "    return faces"
   ]
  },
  {
   "cell_type": "code",
   "execution_count": 88,
   "metadata": {},
   "outputs": [
    {
     "name": "stdout",
     "output_type": "stream",
     "text": [
      "[{'box': [207, 157, 148, 222], 'confidence': 0.9956139326095581, 'keypoints': {'left_eye': (253, 254), 'right_eye': (321, 249), 'nose': (291, 310), 'mouth_left': (259, 337), 'mouth_right': (320, 331)}}]\n"
     ]
    },
    {
     "data": {
      "text/plain": [
       "1"
      ]
     },
     "execution_count": 88,
     "metadata": {},
     "output_type": "execute_result"
    }
   ],
   "source": [
    "image = get_image_from_filename(PATH_TO_FOLDER, DISPLAY_IMG_NAME)\n",
    "face = detect_face(image)\n",
    "print(face)\n",
    "len(face)"
   ]
  },
  {
   "cell_type": "code",
   "execution_count": null,
   "metadata": {},
   "outputs": [],
   "source": []
  },
  {
   "cell_type": "markdown",
   "metadata": {},
   "source": [
    "## 2. Higlighting face"
   ]
  },
  {
   "cell_type": "code",
   "execution_count": 65,
   "metadata": {},
   "outputs": [],
   "source": [
    "def highlight_face(path_to_folder, filename):\n",
    "  # display image\n",
    "    image = get_image_from_filename(path_to_folder, filename)\n",
    "    plt.imshow(image)\n",
    "\n",
    "    ax = plt.gca()\n",
    "    face = detect_face(image)\n",
    "    \n",
    "    # for each face in the image, draw a rectangle based on coordinates\n",
    "    for elem in face:\n",
    "        x, y, width, height = elem['box']\n",
    "        face_border = Rectangle((x, y), width, height,\n",
    "                          fill=False, color='red')\n",
    "        ax.add_patch(face_border)\n",
    "    plt.show()"
   ]
  },
  {
   "cell_type": "code",
   "execution_count": 66,
   "metadata": {},
   "outputs": [
    {
     "data": {
      "image/png": "[encoded data removed]",
      "text/plain": [
       "<Figure size 432x288 with 1 Axes>"
      ]
     },
     "metadata": {
      "needs_background": "light"
     },
     "output_type": "display_data"
    }
   ],
   "source": [
    "highlight_face(PATH_TO_FOLDER, DISPLAY_IMG_NAME)"
   ]
  },
  {
   "cell_type": "code",
   "execution_count": null,
   "metadata": {},
   "outputs": [],
   "source": []
  },
  {
   "cell_type": "markdown",
   "metadata": {},
   "source": [
    "## 3. Face extraction"
   ]
  },
  {
   "cell_type": "code",
   "execution_count": 103,
   "metadata": {},
   "outputs": [],
   "source": [
    "def extract_face_from_image(image, required_size=(IMAGE_HEIGHT, IMAGE_WIDTH)):\n",
    "    face = detect_face(image) # content of face is a python dict\n",
    "\n",
    "    # extract the bounding box from the requested face\n",
    "    box = np.asarray(face[0]['box'])\n",
    "    box[box < 0] = 0\n",
    "    x1, y1, width, height =  box\n",
    "    \n",
    "    x2, y2 = x1 + width, y1 + height\n",
    "    # extract the face\n",
    "    face_boundary = image[y1:y2, x1:x2]\n",
    "\n",
    "    # resize pixels to the model size\n",
    "    face_image = Image.fromarray(face_boundary)\n",
    "    face_image = face_image.resize(required_size)\n",
    "    face_array = asarray(face_image)\n",
    "        \n",
    "    return face_array\n",
    "\n",
    "\n",
    "def extract_face_from_images(images, required_size=(IMAGE_HEIGHT, IMAGE_WIDTH)):\n",
    "    faces = detect_faces(images)\n",
    "    face_images = []\n",
    "    \n",
    "    for i in range(len(images)):\n",
    "        if faces[i-1] == []: # No face detected\n",
    "            face_image = Image.fromarray(images[i-1])\n",
    "            face_image = face_image.resize(required_size)\n",
    "            face_array = asarray(face_image)\n",
    "            face_images.append(face_array)\n",
    "        else:\n",
    "            # extract the bounding box from the requested face\n",
    "            if type(faces[i-1]) is list:  # checks whether more than one face was detected\n",
    "                box = np.asarray(faces[i-1][0]['box'])\n",
    "                box[box < 0] = 0\n",
    "                x1, y1, width, height = box\n",
    "            else:\n",
    "                box = np.asarray(faces[i-1]['box'])\n",
    "                box[box < 0] = 0\n",
    "                x1, y1, width, height = box\n",
    "\n",
    "            x2, y2 = x1 + width, y1 + height\n",
    "            # extract the face\n",
    "            face_boundary = images[i-1][y1:y2, x1:x2]\n",
    "\n",
    "            # resize pixels to the model size\n",
    "            face_image = Image.fromarray(face_boundary)\n",
    "            face_image = face_image.resize(required_size)\n",
    "            face_array = asarray(face_image)\n",
    "            face_images.append(face_array)\n",
    "            \n",
    "    return face_images"
   ]
  },
  {
   "cell_type": "code",
   "execution_count": 90,
   "metadata": {},
   "outputs": [
    {
     "data": {
      "image/png": "[encoded data removed]",
      "text/plain": [
       "<Figure size 432x288 with 1 Axes>"
      ]
     },
     "metadata": {
      "needs_background": "light"
     },
     "output_type": "display_data"
    },
    {
     "data": {
      "text/plain": [
       "(224, 224, 3)"
      ]
     },
     "execution_count": 90,
     "metadata": {},
     "output_type": "execute_result"
    }
   ],
   "source": [
    "# Display the first face from the extracted faces\n",
    "image = get_image_from_filename(PATH_TO_FOLDER, DISPLAY_IMG_NAME)\n",
    "extracted_face = extract_face_from_image(image)\n",
    "plt.imshow(extracted_face)\n",
    "plt.show()\n",
    "extracted_face.shape"
   ]
  },
  {
   "cell_type": "code",
   "execution_count": null,
   "metadata": {},
   "outputs": [],
   "source": []
  },
  {
   "cell_type": "markdown",
   "metadata": {},
   "source": [
    "## 4. Face recognition -> Emotions"
   ]
  },
  {
   "cell_type": "code",
   "execution_count": 91,
   "metadata": {},
   "outputs": [],
   "source": [
    "def get_face_embedding(faces):\n",
    "    samples = asarray(faces, 'float32')\n",
    "\n",
    "    # prepare the data for the model\n",
    "    samples = preprocess_input(samples, version=2)\n",
    "\n",
    "    # create a vggface model object\n",
    "    model = VGGFace(model='resnet50',\n",
    "        include_top=False,\n",
    "        input_shape=(224, 224, 3),\n",
    "        pooling='avg')\n",
    "    \n",
    "    # perform prediction\n",
    "    return model.predict(samples)"
   ]
  },
  {
   "cell_type": "code",
   "execution_count": 112,
   "metadata": {},
   "outputs": [],
   "source": [
    "X_training, X_test, Y_train, Y_test = get_splitted_data(PATH_TO_DATA)"
   ]
  },
  {
   "cell_type": "code",
   "execution_count": 114,
   "metadata": {},
   "outputs": [
    {
     "name": "stdout",
     "output_type": "stream",
     "text": [
      "80\n",
      "20\n",
      "80\n",
      "20\n"
     ]
    }
   ],
   "source": [
    "print(len(X_training))\n",
    "print(len(X_test))\n",
    "print(len(Y_train))\n",
    "print(len(Y_test))"
   ]
  },
  {
   "cell_type": "code",
   "execution_count": 115,
   "metadata": {},
   "outputs": [],
   "source": [
    "X_train_faces = extract_face_from_images(X_training)\n",
    "X_test_faces = extract_face_from_images(X_test)\n",
    "\n",
    "X_train_embeddings = get_face_embedding(X_train_faces)\n",
    "X_test_embeddings = get_face_embedding(X_test_faces)"
   ]
  },
  {
   "cell_type": "code",
   "execution_count": 116,
   "metadata": {},
   "outputs": [],
   "source": [
    "np.savetxt('X_train_embeddings.txt', X_train_embeddings)\n",
    "np.savetxt('X_test_embeddings.txt', X_test_embeddings)\n",
    "\n",
    "np.savetxt('Y_train.txt', Y_train)\n",
    "np.savetxt('Y_test.txt', Y_test)"
   ]
  },
  {
   "cell_type": "code",
   "execution_count": 117,
   "metadata": {},
   "outputs": [],
   "source": [
    "X_train_embeddings = np.loadtxt('X_train_embeddings.txt')\n",
    "X_test_embeddings = np.loadtxt('X_test_embeddings.txt')\n",
    "\n",
    "Y_train = np.loadtxt('Y_train.txt')\n",
    "Y_test = np.loadtxt('Y_test.txt')"
   ]
  },
  {
   "cell_type": "code",
   "execution_count": 118,
   "metadata": {},
   "outputs": [
    {
     "name": "stdout",
     "output_type": "stream",
     "text": [
      "[[7.50076771e-01 0.00000000e+00 1.54107785e+00 ... 3.25518870e+00\n",
      "  1.09365904e+00 3.07581067e+00]\n",
      " [1.99473381e-01 2.67033204e-02 3.56754112e+00 ... 5.29538965e+00\n",
      "  1.46855569e+00 4.18634367e+00]\n",
      " [5.56414247e-01 4.51800041e-03 3.56992602e+00 ... 8.60082150e-01\n",
      "  1.57693696e+00 3.26512575e+00]\n",
      " ...\n",
      " [3.26062053e-01 5.32325415e-04 3.15904665e+00 ... 1.23570693e+00\n",
      "  2.06189251e+00 3.15717745e+00]\n",
      " [0.00000000e+00 0.00000000e+00 5.16212359e-02 ... 4.66405600e-01\n",
      "  6.13839805e-01 0.00000000e+00]\n",
      " [6.94436952e-03 8.24478921e-03 3.26773596e+00 ... 1.84041119e+00\n",
      "  5.52793682e-01 4.15884161e+00]]\n",
      "(80, 2048)\n"
     ]
    }
   ],
   "source": [
    "#the model returns a vector, which represents the features of a face\n",
    "print(X_train_embeddings)\n",
    "print(X_train_embeddings.shape)"
   ]
  },
  {
   "cell_type": "code",
   "execution_count": null,
   "metadata": {},
   "outputs": [],
   "source": []
  },
  {
   "cell_type": "code",
   "execution_count": 119,
   "metadata": {},
   "outputs": [],
   "source": [
    "def model_top(input_shape):\n",
    "    model = Sequential()\n",
    "        \n",
    "    model.add(Dense(512, activation='relu', input_dim = input_shape))\n",
    "    model.add(Dropout(0.1))\n",
    "    \n",
    "    model.add(Dense(256, activation='relu'))\n",
    "    \n",
    "    model.add(Dense(128, activation='relu'))\n",
    "    model.add(BatchNormalization())\n",
    "    \n",
    "    model.add(Dense(64, activation='relu'))\n",
    "    model.add(Dense(output_dim = 2, activation='tanh')) \n",
    "    \n",
    "    return model"
   ]
  },
  {
   "cell_type": "code",
   "execution_count": 120,
   "metadata": {},
   "outputs": [],
   "source": [
    "Y_train = np.asarray(Y_train)"
   ]
  },
  {
   "cell_type": "code",
   "execution_count": 121,
   "metadata": {},
   "outputs": [
    {
     "name": "stdout",
     "output_type": "stream",
     "text": [
      "(80, 2048)\n",
      "(80, 2)\n"
     ]
    },
    {
     "name": "stderr",
     "output_type": "stream",
     "text": [
      "c:\\users\\tobias\\appdata\\local\\programs\\python\\python37\\lib\\site-packages\\ipykernel_launcher.py:13: UserWarning: Update your `Dense` call to the Keras 2 API: `Dense(activation=\"tanh\", units=2)`\n",
      "  del sys.path[0]\n"
     ]
    }
   ],
   "source": [
    "print(X_train_embeddings.shape)\n",
    "print(Y_train.shape)\n",
    "\n",
    "model = model_top(X_train_embeddings.shape[1])"
   ]
  },
  {
   "cell_type": "code",
   "execution_count": 122,
   "metadata": {},
   "outputs": [],
   "source": [
    "if LOAD_PROGRESS_FROM_MODEL:\n",
    "    model.load_weights(\"model_checkpoints/model_top.h5\")\n",
    "    print(\"Loaded model from disk\")"
   ]
  },
  {
   "cell_type": "code",
   "execution_count": 190,
   "metadata": {},
   "outputs": [],
   "source": [
    "def root_mean_squared_error(y_true, y_pred):\n",
    "        return K.sqrt(K.mean(K.square(y_pred - y_true)))"
   ]
  },
  {
   "cell_type": "code",
   "execution_count": 185,
   "metadata": {},
   "outputs": [],
   "source": [
    "def corr(y_true, y_pred):\n",
    "    #normalise\n",
    "    n_y_true = (y_true - K.mean(y_true[:])) / K.std(y_true[:])\n",
    "    n_y_pred = (y_pred - K.mean(y_pred[:])) / K.std(y_pred[:])  \n",
    "\n",
    "    top=K.sum((n_y_true[:]-K.mean(n_y_true[:]))*(n_y_pred[:]-K.mean(n_y_pred[:])),axis=[-1,-2])\n",
    "    bottom=K.sqrt(K.sum(K.pow((n_y_true[:]-K.mean(n_y_true[:])),2),axis=[-1,-2])*K.sum(K.pow(n_y_pred[:]-K.mean(n_y_pred[:]),2),axis=[-1,-2]))\n",
    "\n",
    "    result=top/bottom\n",
    "    return K.mean(result)"
   ]
  },
  {
   "cell_type": "code",
   "execution_count": 186,
   "metadata": {},
   "outputs": [],
   "source": [
    "def corr_loss(y_true, y_pred):\n",
    "    x = y_true\n",
    "    y = y_pred\n",
    "    mx = K.mean(x)\n",
    "    my = K.mean(y)\n",
    "    xm, ym = x-mx, y-my\n",
    "    r_num = K.sum(tf.multiply(xm,ym))\n",
    "    r_den = K.sqrt(tf.multiply(K.sum(K.square(xm)), K.sum(K.square(ym))))\n",
    "    r = r_num / r_den\n",
    "\n",
    "    r = K.maximum(K.minimum(r, 1.0), -1.0)\n",
    "    return 1 - K.square(r)\n",
    "\n"
   ]
  },
  {
   "cell_type": "code",
   "execution_count": 187,
   "metadata": {},
   "outputs": [
    {
     "name": "stdout",
     "output_type": "stream",
     "text": [
      "Model: \"sequential_4\"\n",
      "_________________________________________________________________\n",
      "Layer (type)                 Output Shape              Param #   \n",
      "=================================================================\n",
      "dense_51 (Dense)             (None, 512)               1049088   \n",
      "_________________________________________________________________\n",
      "dropout_4 (Dropout)          (None, 512)               0         \n",
      "_________________________________________________________________\n",
      "dense_52 (Dense)             (None, 256)               131328    \n",
      "_________________________________________________________________\n",
      "dense_53 (Dense)             (None, 128)               32896     \n",
      "_________________________________________________________________\n",
      "batch_normalization_4 (Batch (None, 128)               512       \n",
      "_________________________________________________________________\n",
      "dense_54 (Dense)             (None, 64)                8256      \n",
      "_________________________________________________________________\n",
      "dense_55 (Dense)             (None, 2)                 130       \n",
      "=================================================================\n",
      "Total params: 1,222,210\n",
      "Trainable params: 1,221,954\n",
      "Non-trainable params: 256\n",
      "_________________________________________________________________\n"
     ]
    }
   ],
   "source": [
    "model.summary()\n",
    "model.compile(loss = corr_loss, optimizer = \"adam\", metrics = [\"accuracy\", root_mean_squared_error, corr])"
   ]
  },
  {
   "cell_type": "code",
   "execution_count": 188,
   "metadata": {},
   "outputs": [
    {
     "name": "stdout",
     "output_type": "stream",
     "text": [
      "Train on 80 samples, validate on 20 samples\n",
      "Epoch 1/10\n",
      "80/80 [==============================] - 3s 43ms/step - loss: 0.4135 - accuracy: 0.6125 - root_mean_squared_error: 3.1025 - corr: 0.7574 - val_loss: 0.9975 - val_accuracy: 0.7000 - val_root_mean_squared_error: 3.1525 - val_corr: 0.0504\n",
      "Epoch 2/10\n",
      "80/80 [==============================] - 0s 2ms/step - loss: 0.4094 - accuracy: 0.6250 - root_mean_squared_error: 3.0249 - corr: 0.7763 - val_loss: 0.9876 - val_accuracy: 0.7000 - val_root_mean_squared_error: 2.9588 - val_corr: -0.1113\n",
      "Epoch 3/10\n",
      "80/80 [==============================] - 0s 2ms/step - loss: 0.4687 - accuracy: 0.6375 - root_mean_squared_error: 3.1198 - corr: 0.7272 - val_loss: 0.9982 - val_accuracy: 0.7000 - val_root_mean_squared_error: 2.9703 - val_corr: -0.0429\n",
      "Epoch 4/10\n",
      "80/80 [==============================] - 0s 2ms/step - loss: 0.4355 - accuracy: 0.6250 - root_mean_squared_error: 3.1247 - corr: 0.7521 - val_loss: 0.9943 - val_accuracy: 0.7000 - val_root_mean_squared_error: 3.1165 - val_corr: 0.0752\n",
      "Epoch 5/10\n",
      "80/80 [==============================] - 0s 2ms/step - loss: 0.4773 - accuracy: 0.6250 - root_mean_squared_error: 3.1669 - corr: 0.7360 - val_loss: 0.9950 - val_accuracy: 0.7000 - val_root_mean_squared_error: 3.0673 - val_corr: 0.0707\n",
      "Epoch 6/10\n",
      "80/80 [==============================] - 0s 2ms/step - loss: 0.4377 - accuracy: 0.6250 - root_mean_squared_error: 3.1855 - corr: 0.7353 - val_loss: 0.9962 - val_accuracy: 0.7000 - val_root_mean_squared_error: 3.0208 - val_corr: -0.0618\n",
      "Epoch 7/10\n",
      "80/80 [==============================] - 0s 2ms/step - loss: 0.3595 - accuracy: 0.6250 - root_mean_squared_error: 3.0802 - corr: 0.8121 - val_loss: 0.9838 - val_accuracy: 0.7000 - val_root_mean_squared_error: 3.0270 - val_corr: -0.1273\n",
      "Epoch 8/10\n",
      "80/80 [==============================] - 0s 2ms/step - loss: 0.3845 - accuracy: 0.6250 - root_mean_squared_error: 3.0584 - corr: 0.7589 - val_loss: 0.9783 - val_accuracy: 0.7000 - val_root_mean_squared_error: 3.0160 - val_corr: -0.1472\n",
      "Epoch 9/10\n",
      "80/80 [==============================] - 0s 2ms/step - loss: 0.4029 - accuracy: 0.6375 - root_mean_squared_error: 3.0035 - corr: 0.7714 - val_loss: 0.9945 - val_accuracy: 0.7000 - val_root_mean_squared_error: 3.0952 - val_corr: -0.0741\n",
      "Epoch 10/10\n",
      "80/80 [==============================] - 0s 2ms/step - loss: 0.3923 - accuracy: 0.6250 - root_mean_squared_error: 3.0536 - corr: 0.7897 - val_loss: 0.9990 - val_accuracy: 0.7000 - val_root_mean_squared_error: 3.1557 - val_corr: 0.0310\n"
     ]
    },
    {
     "data": {
      "text/plain": [
       "<keras.callbacks.callbacks.History at 0x1ff5994cdd8>"
      ]
     },
     "execution_count": 188,
     "metadata": {},
     "output_type": "execute_result"
    }
   ],
   "source": [
    "# train model \n",
    "batch_size = 32\n",
    "model.fit(\n",
    "    X_train_embeddings, \n",
    "    Y_train,\n",
    "    epochs=10,\n",
    "    verbose=1,\n",
    "    validation_data=(X_test_embeddings, Y_test),\n",
    "    validation_steps = int(X_test_embeddings.shape[0] // batch_size))"
   ]
  },
  {
   "cell_type": "code",
   "execution_count": 189,
   "metadata": {},
   "outputs": [
    {
     "name": "stdout",
     "output_type": "stream",
     "text": [
      "Saved model to disk\n"
     ]
    }
   ],
   "source": [
    "if SAVE_PROGRESS_TO_MODEL:\n",
    "    model.save_weights(\"model_checkpoints/model_top.h5\")\n",
    "    print(\"Saved model to disk\")"
   ]
  },
  {
   "cell_type": "code",
   "execution_count": null,
   "metadata": {},
   "outputs": [],
   "source": []
  },
  {
   "cell_type": "code",
   "execution_count": 136,
   "metadata": {},
   "outputs": [],
   "source": [
    "### PREDICTION"
   ]
  },
  {
   "cell_type": "code",
   "execution_count": 138,
   "metadata": {},
   "outputs": [],
   "source": [
    "emotion_scores = model.predict(X_test_embeddings)"
   ]
  },
  {
   "cell_type": "code",
   "execution_count": 139,
   "metadata": {},
   "outputs": [
    {
     "name": "stdout",
     "output_type": "stream",
     "text": [
      "[[0.99998695 0.99983275]\n",
      " [0.9999988  0.9999997 ]\n",
      " [0.99997723 0.99977726]\n",
      " [0.99999726 0.9999995 ]\n",
      " [0.99999803 0.9999695 ]\n",
      " [0.99999785 0.9999996 ]\n",
      " [0.999983   0.9998684 ]\n",
      " [0.9999985  0.9999771 ]\n",
      " [0.999995   0.99993503]\n",
      " [0.9999882  0.99996454]\n",
      " [0.9999948  0.99986416]\n",
      " [0.99999696 0.99999934]\n",
      " [0.9999894  0.99999905]\n",
      " [0.99999064 0.9998894 ]\n",
      " [0.99999785 0.99999964]\n",
      " [0.99999636 0.99984926]\n",
      " [0.9999278  0.9996679 ]\n",
      " [0.9999962  0.9998706 ]\n",
      " [0.99999744 0.9999994 ]\n",
      " [0.99998343 0.9999043 ]]\n"
     ]
    }
   ],
   "source": [
    "# the model returns the emtions in 2-dimensional Valance-Arousal space\n",
    "print(emotion_scores)"
   ]
  },
  {
   "cell_type": "code",
   "execution_count": null,
   "metadata": {},
   "outputs": [],
   "source": []
  }
 ],
 "metadata": {
  "kernelspec": {
   "display_name": "Python 3",
   "language": "python",
   "name": "python3"
  },
  "language_info": {
   "codemirror_mode": {
    "name": "ipython",
    "version": 3
   },
   "file_extension": ".py",
   "mimetype": "text/x-python",
   "name": "python",
   "nbconvert_exporter": "python",
   "pygments_lexer": "ipython3",
   "version": "3.7.3"
  }
 },
 "nbformat": 4,
 "nbformat_minor": 2
}
